{
 "cells": [
  {
   "cell_type": "code",
   "execution_count": 14,
   "id": "c075534c",
   "metadata": {},
   "outputs": [
    {
     "name": "stdout",
     "output_type": "stream",
     "text": [
      "yumurta sayısını giriniz:6\n",
      "kekiniz için 6 tane yumurtaya 315.0 gr un ,300 gr şeker, 60 gr yağ gerekmektedir.\n"
     ]
    }
   ],
   "source": [
    "def UnMiktari (yumurtasayisi):\n",
    " return yumurtasayisi * 52.5 \n",
    "def SekerMiktari (yumurtasayisi):\n",
    " return yumurtasayisi * 50\n",
    "def YagMiktari (yumurtasayisi):\n",
    " return yumurtasayisi * 10 \n",
    "\n",
    "yumurta = int(input(\"yumurta sayısını giriniz:\"))\n",
    "    \n",
    "print(\"kekiniz için {} tane yumurtaya {} gr un ,{} gr şeker, {} gr yağ gerekmektedir.\"\n",
    "      .format(yumurta,UnMiktari(yumurta),SekerMiktari(yumurta),YagMiktari(yumurta)))"
   ]
  },
  {
   "cell_type": "code",
   "execution_count": null,
   "id": "08edc4d8",
   "metadata": {},
   "outputs": [],
   "source": []
  },
  {
   "cell_type": "code",
   "execution_count": null,
   "id": "4ab1cbdf",
   "metadata": {},
   "outputs": [],
   "source": []
  }
 ],
 "metadata": {
  "kernelspec": {
   "display_name": "Python 3",
   "language": "python",
   "name": "python3"
  },
  "language_info": {
   "codemirror_mode": {
    "name": "ipython",
    "version": 3
   },
   "file_extension": ".py",
   "mimetype": "text/x-python",
   "name": "python",
   "nbconvert_exporter": "python",
   "pygments_lexer": "ipython3",
   "version": "3.8.8"
  }
 },
 "nbformat": 4,
 "nbformat_minor": 5
}
